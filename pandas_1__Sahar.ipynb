{
  "cells": [
    {
      "cell_type": "markdown",
      "metadata": {
        "id": "W6MVZIdcTgHF"
      },
      "source": [
        "# Introduction to Pandas Lab\n",
        "\n",
        "Complete the following set of exercises to solidify your knowledge of Pandas fundamentals."
      ]
    },
    {
      "cell_type": "markdown",
      "metadata": {
        "id": "-fi6M9fpTgHK"
      },
      "source": [
        "### 1. Import Numpy and Pandas and alias them to `np` and `pd` respectively."
      ]
    },
    {
      "cell_type": "code",
      "execution_count": 64,
      "metadata": {
        "id": "ZFZMWE84TgHM"
      },
      "outputs": [],
      "source": [
        "import pandas as pd\n",
        "import numpy as np"
      ]
    },
    {
      "cell_type": "markdown",
      "metadata": {
        "id": "r7H7lSW8TgHP"
      },
      "source": [
        "### 2. Create a Pandas Series containing the elements of the list below."
      ]
    },
    {
      "cell_type": "code",
      "execution_count": 65,
      "metadata": {
        "id": "mmnInqd2TgHS"
      },
      "outputs": [],
      "source": [
        "lst = [1.5, 75.2, 21.4, 88.0, 66.5, 88.3, 55.8, 75.7, 90.1, 43.7]"
      ]
    },
    {
      "cell_type": "code",
      "execution_count": 66,
      "metadata": {
        "colab": {
          "base_uri": "https://localhost:8080/"
        },
        "id": "IgI8PzlFTgHT",
        "outputId": "546b3370-9a22-443d-9f94-3f721ddd1695"
      },
      "outputs": [
        {
          "output_type": "stream",
          "name": "stdout",
          "text": [
            "0     1.5\n",
            "1    75.2\n",
            "2    21.4\n",
            "3    88.0\n",
            "4    66.5\n",
            "5    88.3\n",
            "6    55.8\n",
            "7    75.7\n",
            "8    90.1\n",
            "9    43.7\n",
            "dtype: float64\n"
          ]
        }
      ],
      "source": [
        "import pandas as pd\n",
        "\n",
        "lst = [1.5, 75.2, 21.4, 88.0, 66.5, 88.3, 55.8, 75.7, 90.1, 43.7]\n",
        "series = pd.Series(lst)\n",
        "\n",
        "print(series)\n"
      ]
    },
    {
      "cell_type": "markdown",
      "metadata": {
        "id": "w8SKiwuUTgHV"
      },
      "source": [
        "### 3. Use indexing to return the third value in the Series above.\n",
        "\n",
        "*Hint: Remember that indexing begins at 0.*"
      ]
    },
    {
      "cell_type": "code",
      "execution_count": 67,
      "metadata": {
        "colab": {
          "base_uri": "https://localhost:8080/"
        },
        "id": "yac9V7EnTgHX",
        "outputId": "9717951d-12af-4988-a381-2a9fc1624b39"
      },
      "outputs": [
        {
          "output_type": "stream",
          "name": "stdout",
          "text": [
            "21.4\n"
          ]
        }
      ],
      "source": [
        "third_value = series[2]\n",
        "\n",
        "print(third_value)\n"
      ]
    },
    {
      "cell_type": "markdown",
      "metadata": {
        "id": "PM09AfqKTgHZ"
      },
      "source": [
        "### 4. Create a Pandas DataFrame from the list of lists below. Each sublist should be represented as a row."
      ]
    },
    {
      "cell_type": "code",
      "execution_count": 68,
      "metadata": {
        "id": "m5SszjdYTgHb"
      },
      "outputs": [],
      "source": [
        "b = [[53.1, 95.0, 67.5, 35.0, 78.4],\n",
        "     [61.3, 40.8, 30.8, 37.8, 87.6],\n",
        "     [20.6, 73.2, 44.2, 14.6, 91.8],\n",
        "     [57.4, 0.1, 96.1, 4.2, 69.5],\n",
        "     [83.6, 20.5, 85.4, 22.8, 35.9],\n",
        "     [49.0, 69.0, 0.1, 31.8, 89.1],\n",
        "     [23.3, 40.7, 95.0, 83.8, 26.9],\n",
        "     [27.6, 26.4, 53.8, 88.8, 68.5],\n",
        "     [96.6, 96.4, 53.4, 72.4, 50.1],\n",
        "     [73.7, 39.0, 43.2, 81.6, 34.7]]"
      ]
    },
    {
      "cell_type": "code",
      "execution_count": 69,
      "metadata": {
        "colab": {
          "base_uri": "https://localhost:8080/"
        },
        "id": "m8C3os-qTgHd",
        "outputId": "e2a8152d-2ac4-4fb8-d468-550d20a2f6fb"
      },
      "outputs": [
        {
          "output_type": "stream",
          "name": "stdout",
          "text": [
            "      0     1     2     3     4\n",
            "0  53.1  95.0  67.5  35.0  78.4\n",
            "1  61.3  40.8  30.8  37.8  87.6\n",
            "2  20.6  73.2  44.2  14.6  91.8\n",
            "3  57.4   0.1  96.1   4.2  69.5\n",
            "4  83.6  20.5  85.4  22.8  35.9\n",
            "5  49.0  69.0   0.1  31.8  89.1\n",
            "6  23.3  40.7  95.0  83.8  26.9\n",
            "7  27.6  26.4  53.8  88.8  68.5\n",
            "8  96.6  96.4  53.4  72.4  50.1\n",
            "9  73.7  39.0  43.2  81.6  34.7\n"
          ]
        }
      ],
      "source": [
        "import pandas as pd\n",
        "\n",
        "b = [\n",
        "    [53.1, 95.0, 67.5, 35.0, 78.4],\n",
        "    [61.3, 40.8, 30.8, 37.8, 87.6],\n",
        "    [20.6, 73.2, 44.2, 14.6, 91.8],\n",
        "    [57.4, 0.1, 96.1, 4.2, 69.5],\n",
        "    [83.6, 20.5, 85.4, 22.8, 35.9],\n",
        "    [49.0, 69.0, 0.1, 31.8, 89.1],\n",
        "    [23.3, 40.7, 95.0, 83.8, 26.9],\n",
        "    [27.6, 26.4, 53.8, 88.8, 68.5],\n",
        "    [96.6, 96.4, 53.4, 72.4, 50.1],\n",
        "    [73.7, 39.0, 43.2, 81.6, 34.7]\n",
        "]\n",
        "\n",
        "df = pd.DataFrame(b)\n",
        "\n",
        "print(df)\n"
      ]
    },
    {
      "cell_type": "markdown",
      "metadata": {
        "id": "amlB6rqATgHe"
      },
      "source": [
        "### 5. Rename the data frame columns based on the names in the list below."
      ]
    },
    {
      "cell_type": "code",
      "execution_count": 70,
      "metadata": {
        "id": "zXKGeuujTgHf"
      },
      "outputs": [],
      "source": [
        "b = [[53.1, 95.0, 67.5, 35.0, 78.4],\n",
        "     [61.3, 40.8, 30.8, 37.8, 87.6],\n",
        "     [20.6, 73.2, 44.2, 14.6, 91.8],\n",
        "     [57.4, 0.1, 96.1, 4.2, 69.5],\n",
        "     [83.6, 20.5, 85.4, 22.8, 35.9],\n",
        "     [49.0, 69.0, 0.1, 31.8, 89.1],\n",
        "     [23.3, 40.7, 95.0, 83.8, 26.9],\n",
        "     [27.6, 26.4, 53.8, 88.8, 68.5],\n",
        "     [96.6, 96.4, 53.4, 72.4, 50.1],\n",
        "     [73.7, 39.0, 43.2, 81.6, 34.7]]"
      ]
    },
    {
      "cell_type": "code",
      "execution_count": 71,
      "metadata": {
        "colab": {
          "base_uri": "https://localhost:8080/"
        },
        "id": "KBredKQnTgHg",
        "outputId": "0e281c18-5b0b-4d60-f08e-e7729b0d9122"
      },
      "outputs": [
        {
          "output_type": "stream",
          "name": "stdout",
          "text": [
            "   HHHH  HHHH  HHHH  HHHH  HHHH\n",
            "0  53.1  95.0  67.5  35.0  78.4\n",
            "1  61.3  40.8  30.8  37.8  87.6\n",
            "2  20.6  73.2  44.2  14.6  91.8\n",
            "3  57.4   0.1  96.1   4.2  69.5\n",
            "4  83.6  20.5  85.4  22.8  35.9\n",
            "5  49.0  69.0   0.1  31.8  89.1\n",
            "6  23.3  40.7  95.0  83.8  26.9\n",
            "7  27.6  26.4  53.8  88.8  68.5\n",
            "8  96.6  96.4  53.4  72.4  50.1\n",
            "9  73.7  39.0  43.2  81.6  34.7\n"
          ]
        }
      ],
      "source": [
        "import pandas as pd\n",
        "\n",
        "b = [\n",
        "    [53.1, 95.0, 67.5, 35.0, 78.4],\n",
        "    [61.3, 40.8, 30.8, 37.8, 87.6],\n",
        "    [20.6, 73.2, 44.2, 14.6, 91.8],\n",
        "    [57.4, 0.1, 96.1, 4.2, 69.5],\n",
        "    [83.6, 20.5, 85.4, 22.8, 35.9],\n",
        "    [49.0, 69.0, 0.1, 31.8, 89.1],\n",
        "    [23.3, 40.7, 95.0, 83.8, 26.9],\n",
        "    [27.6, 26.4, 53.8, 88.8, 68.5],\n",
        "    [96.6, 96.4, 53.4, 72.4, 50.1],\n",
        "    [73.7, 39.0, 43.2, 81.6, 34.7]\n",
        "]\n",
        "\n",
        "df = pd.DataFrame(b)\n",
        "\n",
        "df.columns = [\"HHHH\"] * df.shape[1]\n",
        "\n",
        "print(df)\n"
      ]
    },
    {
      "cell_type": "markdown",
      "metadata": {
        "id": "vtY_s8S5TgHj"
      },
      "source": [
        "### 6. Create a subset of this data frame that contains only the Score 1, 3, and 5 columns."
      ]
    },
    {
      "cell_type": "code",
      "execution_count": 72,
      "metadata": {
        "colab": {
          "base_uri": "https://localhost:8080/"
        },
        "id": "xjgAoR-8TgHj",
        "outputId": "7f943d2b-a263-43b9-8856-cedaafbc8495"
      },
      "outputs": [
        {
          "output_type": "stream",
          "name": "stdout",
          "text": [
            "   Score 1  Score 3  Score 5\n",
            "0     53.1     67.5     78.4\n",
            "1     61.3     30.8     87.6\n",
            "2     20.6     44.2     91.8\n",
            "3     57.4     96.1     69.5\n",
            "4     83.6     85.4     35.9\n",
            "5     49.0      0.1     89.1\n",
            "6     23.3     95.0     26.9\n",
            "7     27.6     53.8     68.5\n",
            "8     96.6     53.4     50.1\n",
            "9     73.7     43.2     34.7\n"
          ]
        }
      ],
      "source": [
        "import pandas as pd\n",
        "\n",
        "b = [\n",
        "    [53.1, 95.0, 67.5, 35.0, 78.4],\n",
        "    [61.3, 40.8, 30.8, 37.8, 87.6],\n",
        "    [20.6, 73.2, 44.2, 14.6, 91.8],\n",
        "    [57.4, 0.1, 96.1, 4.2, 69.5],\n",
        "    [83.6, 20.5, 85.4, 22.8, 35.9],\n",
        "    [49.0, 69.0, 0.1, 31.8, 89.1],\n",
        "    [23.3, 40.7, 95.0, 83.8, 26.9],\n",
        "    [27.6, 26.4, 53.8, 88.8, 68.5],\n",
        "    [96.6, 96.4, 53.4, 72.4, 50.1],\n",
        "    [73.7, 39.0, 43.2, 81.6, 34.7]\n",
        "]\n",
        "\n",
        "df = pd.DataFrame(b, columns=[\"Score 1\", \"Score 2\", \"Score 3\", \"Score 4\", \"Score 5\"])\n",
        "\n",
        "subset_df = df[[\"Score 1\", \"Score 3\", \"Score 5\"]]\n",
        "\n",
        "print(subset_df)\n"
      ]
    },
    {
      "cell_type": "markdown",
      "metadata": {
        "id": "hx2ngejuTgHl"
      },
      "source": [
        "### 7. From the original data frame, calculate the average Score_3 value."
      ]
    },
    {
      "cell_type": "code",
      "execution_count": 73,
      "metadata": {
        "colab": {
          "base_uri": "https://localhost:8080/"
        },
        "id": "l9w2S0H3TgHl",
        "outputId": "1a86f59f-4245-4a57-99bc-7b6ac8d2b9f9"
      },
      "outputs": [
        {
          "output_type": "stream",
          "name": "stdout",
          "text": [
            "Average Score 3: 56.95000000000001\n"
          ]
        }
      ],
      "source": [
        "import pandas as pd\n",
        "\n",
        "b = [\n",
        "    [53.1, 95.0, 67.5, 35.0, 78.4],\n",
        "    [61.3, 40.8, 30.8, 37.8, 87.6],\n",
        "    [20.6, 73.2, 44.2, 14.6, 91.8],\n",
        "    [57.4, 0.1, 96.1, 4.2, 69.5],\n",
        "    [83.6, 20.5, 85.4, 22.8, 35.9],\n",
        "    [49.0, 69.0, 0.1, 31.8, 89.1],\n",
        "    [23.3, 40.7, 95.0, 83.8, 26.9],\n",
        "    [27.6, 26.4, 53.8, 88.8, 68.5],\n",
        "    [96.6, 96.4, 53.4, 72.4, 50.1],\n",
        "    [73.7, 39.0, 43.2, 81.6, 34.7]\n",
        "]\n",
        "\n",
        "df = pd.DataFrame(b, columns=[\"Score 1\", \"Score 2\", \"Score 3\", \"Score 4\", \"Score 5\"])\n",
        "\n",
        "average_score_3 = df[\"Score 3\"].mean()\n",
        "\n",
        "print(\"Average Score 3:\", average_score_3)\n"
      ]
    },
    {
      "cell_type": "markdown",
      "metadata": {
        "id": "vXF6yf8hTgHm"
      },
      "source": [
        "### 8. From the original data frame, calculate the maximum Score_4 value."
      ]
    },
    {
      "cell_type": "code",
      "execution_count": 74,
      "metadata": {
        "colab": {
          "base_uri": "https://localhost:8080/"
        },
        "id": "4FCnXlVqTgHn",
        "outputId": "43474513-3a4f-405c-eff3-be7e3beeaf74"
      },
      "outputs": [
        {
          "output_type": "stream",
          "name": "stdout",
          "text": [
            "Maximum Score 4: 88.8\n"
          ]
        }
      ],
      "source": [
        "import pandas as pd\n",
        "\n",
        "b = [\n",
        "    [53.1, 95.0, 67.5, 35.0, 78.4],\n",
        "    [61.3, 40.8, 30.8, 37.8, 87.6],\n",
        "    [20.6, 73.2, 44.2, 14.6, 91.8],\n",
        "    [57.4, 0.1, 96.1, 4.2, 69.5],\n",
        "    [83.6, 20.5, 85.4, 22.8, 35.9],\n",
        "    [49.0, 69.0, 0.1, 31.8, 89.1],\n",
        "    [23.3, 40.7, 95.0, 83.8, 26.9],\n",
        "    [27.6, 26.4, 53.8, 88.8, 68.5],\n",
        "    [96.6, 96.4, 53.4, 72.4, 50.1],\n",
        "    [73.7, 39.0, 43.2, 81.6, 34.7]\n",
        "]\n",
        "\n",
        "df = pd.DataFrame(b, columns=[\"Score 1\", \"Score 2\", \"Score 3\", \"Score 4\", \"Score 5\"])\n",
        "\n",
        "max_score_4 = df[\"Score 4\"].max()\n",
        "\n",
        "print(\"Maximum Score 4:\", max_score_4)\n"
      ]
    },
    {
      "cell_type": "markdown",
      "metadata": {
        "id": "uTTuTaa-TgHo"
      },
      "source": [
        "### 9. From the original data frame, calculate the median Score 2 value."
      ]
    },
    {
      "cell_type": "code",
      "execution_count": 75,
      "metadata": {
        "colab": {
          "base_uri": "https://localhost:8080/"
        },
        "id": "B82Y6v9QTgHo",
        "outputId": "256afee8-9a19-4f9f-e482-89ba31256933"
      },
      "outputs": [
        {
          "output_type": "stream",
          "name": "stdout",
          "text": [
            "Median Score 2: 40.75\n"
          ]
        }
      ],
      "source": [
        "import pandas as pd\n",
        "\n",
        "b = [\n",
        "    [53.1, 95.0, 67.5, 35.0, 78.4],\n",
        "    [61.3, 40.8, 30.8, 37.8, 87.6],\n",
        "    [20.6, 73.2, 44.2, 14.6, 91.8],\n",
        "    [57.4, 0.1, 96.1, 4.2, 69.5],\n",
        "    [83.6, 20.5, 85.4, 22.8, 35.9],\n",
        "    [49.0, 69.0, 0.1, 31.8, 89.1],\n",
        "    [23.3, 40.7, 95.0, 83.8, 26.9],\n",
        "    [27.6, 26.4, 53.8, 88.8, 68.5],\n",
        "    [96.6, 96.4, 53.4, 72.4, 50.1],\n",
        "    [73.7, 39.0, 43.2, 81.6, 34.7]\n",
        "]\n",
        "\n",
        "df = pd.DataFrame(b, columns=[\"Score 1\", \"Score 2\", \"Score 3\", \"Score 4\", \"Score 5\"])\n",
        "\n",
        "median_score_2 = df[\"Score 2\"].median()\n",
        "\n",
        "print(\"Median Score 2:\", median_score_2)\n"
      ]
    },
    {
      "cell_type": "markdown",
      "metadata": {
        "id": "OSVtYDR1TgHp"
      },
      "source": [
        "### 10. Create a Pandas DataFrame from the dictionary of product orders below."
      ]
    },
    {
      "cell_type": "code",
      "execution_count": 76,
      "metadata": {
        "id": "UjvMX-7_TgHp"
      },
      "outputs": [],
      "source": [
        "orders = {'Description': ['LUNCH BAG APPLE DESIGN',\n",
        "  'SET OF 60 VINTAGE LEAF CAKE CASES ',\n",
        "  'RIBBON REEL STRIPES DESIGN ',\n",
        "  'WORLD WAR 2 GLIDERS ASSTD DESIGNS',\n",
        "  'PLAYING CARDS JUBILEE UNION JACK',\n",
        "  'POPCORN HOLDER',\n",
        "  'BOX OF VINTAGE ALPHABET BLOCKS',\n",
        "  'PARTY BUNTING',\n",
        "  'JAZZ HEARTS ADDRESS BOOK',\n",
        "  'SET OF 4 SANTA PLACE SETTINGS'],\n",
        " 'Quantity': [1, 24, 1, 2880, 2, 7, 1, 4, 10, 48],\n",
        " 'UnitPrice': [1.65, 0.55, 1.65, 0.18, 1.25, 0.85, 11.95, 4.95, 0.19, 1.25],\n",
        " 'Revenue': [1.65, 13.2, 1.65, 518.4, 2.5, 5.95, 11.95, 19.8, 1.9, 60.0]}"
      ]
    },
    {
      "cell_type": "code",
      "execution_count": 77,
      "metadata": {
        "colab": {
          "base_uri": "https://localhost:8080/"
        },
        "id": "vaYcscj0TgHq",
        "outputId": "191f9b44-139a-4dc4-9dc9-16b69c6766aa"
      },
      "outputs": [
        {
          "output_type": "stream",
          "name": "stdout",
          "text": [
            "                          Description  Quantity  UnitPrice  Revenue\n",
            "0              LUNCH BAG APPLE DESIGN         1       1.65     1.65\n",
            "1  SET OF 60 VINTAGE LEAF CAKE CASES         24       0.55    13.20\n",
            "2         RIBBON REEL STRIPES DESIGN          1       1.65     1.65\n",
            "3   WORLD WAR 2 GLIDERS ASSTD DESIGNS      2880       0.18   518.40\n",
            "4    PLAYING CARDS JUBILEE UNION JACK         2       1.25     2.50\n",
            "5                      POPCORN HOLDER         7       0.85     5.95\n",
            "6      BOX OF VINTAGE ALPHABET BLOCKS         1      11.95    11.95\n",
            "7                       PARTY BUNTING         4       4.95    19.80\n",
            "8            JAZZ HEARTS ADDRESS BOOK        10       0.19     1.90\n",
            "9       SET OF 4 SANTA PLACE SETTINGS        48       1.25    60.00\n"
          ]
        }
      ],
      "source": [
        "import pandas as pd\n",
        "\n",
        "orders = {\n",
        "    'Description': [\n",
        "        'LUNCH BAG APPLE DESIGN',\n",
        "        'SET OF 60 VINTAGE LEAF CAKE CASES ',\n",
        "        'RIBBON REEL STRIPES DESIGN ',\n",
        "        'WORLD WAR 2 GLIDERS ASSTD DESIGNS',\n",
        "        'PLAYING CARDS JUBILEE UNION JACK',\n",
        "        'POPCORN HOLDER',\n",
        "        'BOX OF VINTAGE ALPHABET BLOCKS',\n",
        "        'PARTY BUNTING',\n",
        "        'JAZZ HEARTS ADDRESS BOOK',\n",
        "        'SET OF 4 SANTA PLACE SETTINGS'\n",
        "    ],\n",
        "    'Quantity': [1, 24, 1, 2880, 2, 7, 1, 4, 10, 48],\n",
        "    'UnitPrice': [1.65, 0.55, 1.65, 0.18, 1.25, 0.85, 11.95, 4.95, 0.19, 1.25],\n",
        "    'Revenue': [1.65, 13.2, 1.65, 518.4, 2.5, 5.95, 11.95, 19.8, 1.9, 60.0]\n",
        "}\n",
        "\n",
        "# Create a DataFrame\n",
        "df = pd.DataFrame(orders)\n",
        "\n",
        "print(df)\n"
      ]
    },
    {
      "cell_type": "markdown",
      "metadata": {
        "id": "SGgwwlJSTgHr"
      },
      "source": [
        "### 11. Calculate the total quantity ordered and revenue generated from these orders."
      ]
    },
    {
      "cell_type": "code",
      "execution_count": 78,
      "metadata": {
        "colab": {
          "base_uri": "https://localhost:8080/"
        },
        "id": "bEw7OAudTgHr",
        "outputId": "93c6cdde-1725-442a-a040-30442a755736"
      },
      "outputs": [
        {
          "output_type": "stream",
          "name": "stdout",
          "text": [
            "Total Quantity Ordered: 2978\n",
            "Total Revenue Generated: 637.0\n"
          ]
        }
      ],
      "source": [
        "import pandas as pd\n",
        "\n",
        "orders = {\n",
        "    'Description': [\n",
        "        'LUNCH BAG APPLE DESIGN',\n",
        "        'SET OF 60 VINTAGE LEAF CAKE CASES ',\n",
        "        'RIBBON REEL STRIPES DESIGN ',\n",
        "        'WORLD WAR 2 GLIDERS ASSTD DESIGNS',\n",
        "        'PLAYING CARDS JUBILEE UNION JACK',\n",
        "        'POPCORN HOLDER',\n",
        "        'BOX OF VINTAGE ALPHABET BLOCKS',\n",
        "        'PARTY BUNTING',\n",
        "        'JAZZ HEARTS ADDRESS BOOK',\n",
        "        'SET OF 4 SANTA PLACE SETTINGS'\n",
        "    ],\n",
        "    'Quantity': [1, 24, 1, 2880, 2, 7, 1, 4, 10, 48],\n",
        "    'UnitPrice': [1.65, 0.55, 1.65, 0.18, 1.25, 0.85, 11.95, 4.95, 0.19, 1.25],\n",
        "    'Revenue': [1.65, 13.2, 1.65, 518.4, 2.5, 5.95, 11.95, 19.8, 1.9, 60.0]\n",
        "}\n",
        "\n",
        "df = pd.DataFrame(orders)\n",
        "\n",
        "total_quantity = df['Quantity'].sum()\n",
        "\n",
        "total_revenue = df['Revenue'].sum()\n",
        "\n",
        "print(\"Total Quantity Ordered:\", total_quantity)\n",
        "print(\"Total Revenue Generated:\", total_revenue)\n"
      ]
    },
    {
      "cell_type": "markdown",
      "metadata": {
        "id": "YgMrapZdTgHs"
      },
      "source": [
        "### 12. Obtain the prices of the most expensive and least expensive items ordered and print the difference."
      ]
    },
    {
      "cell_type": "code",
      "execution_count": 79,
      "metadata": {
        "colab": {
          "base_uri": "https://localhost:8080/"
        },
        "id": "6KhxUdVTTgHt",
        "outputId": "9d76a159-3c3a-4661-c586-85fbf15e415e"
      },
      "outputs": [
        {
          "output_type": "stream",
          "name": "stdout",
          "text": [
            "Most Expensive Item Price: 11.95\n",
            "Least Expensive Item Price: 0.18\n",
            "Price Difference: 11.77\n"
          ]
        }
      ],
      "source": [
        "import pandas as pd\n",
        "\n",
        "orders = {\n",
        "    'Description': [\n",
        "        'LUNCH BAG APPLE DESIGN',\n",
        "        'SET OF 60 VINTAGE LEAF CAKE CASES ',\n",
        "        'RIBBON REEL STRIPES DESIGN ',\n",
        "        'WORLD WAR 2 GLIDERS ASSTD DESIGNS',\n",
        "        'PLAYING CARDS JUBILEE UNION JACK',\n",
        "        'POPCORN HOLDER',\n",
        "        'BOX OF VINTAGE ALPHABET BLOCKS',\n",
        "        'PARTY BUNTING',\n",
        "        'JAZZ HEARTS ADDRESS BOOK',\n",
        "        'SET OF 4 SANTA PLACE SETTINGS'\n",
        "    ],\n",
        "    'Quantity': [1, 24, 1, 2880, 2, 7, 1, 4, 10, 48],\n",
        "    'UnitPrice': [1.65, 0.55, 1.65, 0.18, 1.25, 0.85, 11.95, 4.95, 0.19, 1.25],\n",
        "    'Revenue': [1.65, 13.2, 1.65, 518.4, 2.5, 5.95, 11.95, 19.8, 1.9, 60.0]\n",
        "}\n",
        "\n",
        "df = pd.DataFrame(orders)\n",
        "\n",
        "most_expensive = df['UnitPrice'].max()\n",
        "least_expensive = df['UnitPrice'].min()\n",
        "\n",
        "\n",
        "print(f\"Most Expensive Item Price: {most_expensive}\")\n",
        "print(f\"Least Expensive Item Price: {least_expensive}\")\n",
        "print(f\"Price Difference: {price_difference}\")\n"
      ]
    },
    {
      "cell_type": "code",
      "source": [
        "!git clone https://github.com/ironhack-labs/lab-pandas-en.git"
      ],
      "metadata": {
        "colab": {
          "base_uri": "https://localhost:8080/"
        },
        "id": "2RHiUcdTWIcl",
        "outputId": "62f1b91b-e44d-4eaa-bdea-089d7fbf2766"
      },
      "execution_count": 80,
      "outputs": [
        {
          "output_type": "stream",
          "name": "stdout",
          "text": [
            "fatal: destination path 'lab-pandas-en' already exists and is not an empty directory.\n"
          ]
        }
      ]
    },
    {
      "cell_type": "markdown",
      "metadata": {
        "id": "R7nxcqezTgHu"
      },
      "source": [
        "## Let's load another dataset for more exercisesº"
      ]
    },
    {
      "cell_type": "code",
      "execution_count": 81,
      "metadata": {
        "colab": {
          "base_uri": "https://localhost:8080/"
        },
        "id": "ALotlwBOTgHv",
        "outputId": "5ccb34d3-d282-4af5-9d97-51493ba505cb"
      },
      "outputs": [
        {
          "output_type": "stream",
          "name": "stdout",
          "text": [
            "   Serial No.  GRE Score  TOEFL Score  University Rating  SOP  LOR   CGPA  \\\n",
            "0           1        337          118                  4  4.5   4.5  9.65   \n",
            "1           2        316          104                  3  3.0   3.5  8.00   \n",
            "2           3        322          110                  3  3.5   2.5  8.67   \n",
            "3           4        314          103                  2  2.0   3.0  8.21   \n",
            "4           5        330          115                  5  4.5   3.0  9.34   \n",
            "\n",
            "   Research  Chance of Admit   \n",
            "0         1              0.92  \n",
            "1         1              0.72  \n",
            "2         1              0.80  \n",
            "3         0              0.65  \n",
            "4         1              0.90  \n",
            "Dataset shape: (385, 9)\n",
            "Dataset size in memory: 27852 bytes\n"
          ]
        }
      ],
      "source": [
        "import pandas as pd\n",
        "import os\n",
        "\n",
        "file_path = os.path.join(\"lab-pandas-en\", \"Admission_Predict.csv\")\n",
        "\n",
        "df = pd.read_csv(file_path)\n",
        "\n",
        "print(df.head())\n",
        "\n",
        "print(f\"Dataset shape: {df.shape}\")\n",
        "\n",
        "print(f\"Dataset size in memory: {df.memory_usage(deep=True).sum()} bytes\")"
      ]
    },
    {
      "cell_type": "code",
      "execution_count": 82,
      "metadata": {
        "colab": {
          "base_uri": "https://localhost:8080/"
        },
        "id": "vJlpld-jTgHx",
        "outputId": "ba7e53fe-4d7d-4403-8062-892be85fa078"
      },
      "outputs": [
        {
          "output_type": "stream",
          "name": "stdout",
          "text": [
            "   Serial No.  GRE Score  TOEFL Score  University Rating  SOP  LOR   CGPA  \\\n",
            "0           1        337          118                  4  4.5   4.5  9.65   \n",
            "1           2        316          104                  3  3.0   3.5  8.00   \n",
            "2           3        322          110                  3  3.5   2.5  8.67   \n",
            "3           4        314          103                  2  2.0   3.0  8.21   \n",
            "4           5        330          115                  5  4.5   3.0  9.34   \n",
            "\n",
            "   Research  Chance of Admit   \n",
            "0         1              0.92  \n",
            "1         1              0.72  \n",
            "2         1              0.80  \n",
            "3         0              0.65  \n",
            "4         1              0.90  \n",
            "Dataset shape: (385, 9)\n",
            "Dataset size in memory: 27852 bytes\n"
          ]
        }
      ],
      "source": [
        "import pandas as pd\n",
        "import os\n",
        "\n",
        "file_path = os.path.join(\"lab-pandas-en\", \"Admission_Predict.csv\")\n",
        "\n",
        "df = pd.read_csv(file_path)\n",
        "\n",
        "print(df.head())\n",
        "\n",
        "print(f\"Dataset shape: {df.shape}\")\n",
        "\n",
        "print(f\"Dataset size in memory: {df.memory_usage(deep=True).sum()} bytes\")"
      ]
    },
    {
      "cell_type": "markdown",
      "metadata": {
        "id": "uNRrll1bTgHz"
      },
      "source": [
        "Let's evaluate the dataset by looking at the `head` function."
      ]
    },
    {
      "cell_type": "code",
      "execution_count": 83,
      "metadata": {
        "colab": {
          "base_uri": "https://localhost:8080/"
        },
        "id": "IdhwatthTgHz",
        "outputId": "fdfb6f2f-2976-4502-bc19-2e198b93bdc8"
      },
      "outputs": [
        {
          "output_type": "stream",
          "name": "stdout",
          "text": [
            "   Serial No.  GRE Score  TOEFL Score  University Rating  SOP  LOR   CGPA  \\\n",
            "0           1        337          118                  4  4.5   4.5  9.65   \n",
            "1           2        316          104                  3  3.0   3.5  8.00   \n",
            "2           3        322          110                  3  3.5   2.5  8.67   \n",
            "3           4        314          103                  2  2.0   3.0  8.21   \n",
            "4           5        330          115                  5  4.5   3.0  9.34   \n",
            "\n",
            "   Research  Chance of Admit   \n",
            "0         1              0.92  \n",
            "1         1              0.72  \n",
            "2         1              0.80  \n",
            "3         0              0.65  \n",
            "4         1              0.90  \n"
          ]
        }
      ],
      "source": [
        "import pandas as pd\n",
        "import os\n",
        "\n",
        "# Specify the correct file path\n",
        "file_path = os.path.join(\"lab-pandas-en\", \"Admission_Predict.csv\")\n",
        "\n",
        "# Load the dataset using the file path\n",
        "df = pd.read_csv(file_path)\n",
        "\n",
        "# Display the first 5 rows of the dataset\n",
        "print(df.head())\n"
      ]
    },
    {
      "cell_type": "markdown",
      "metadata": {
        "id": "-a-AxgPFTgH0"
      },
      "source": [
        "### 1 - Before beginning to work with this dataset and evaluating graduate admissions data, we will verify that there is no missing data in the dataset. Do this in the cell below."
      ]
    },
    {
      "cell_type": "code",
      "execution_count": 84,
      "metadata": {
        "colab": {
          "base_uri": "https://localhost:8080/"
        },
        "id": "su0FRfpfTgH0",
        "outputId": "1b2248ad-4eca-440a-eaa5-f4c0c132690b"
      },
      "outputs": [
        {
          "output_type": "stream",
          "name": "stdout",
          "text": [
            "Missing Values in Each Column:\n",
            "Serial No.           0\n",
            "GRE Score            0\n",
            "TOEFL Score          0\n",
            "University Rating    0\n",
            "SOP                  0\n",
            "LOR                  0\n",
            "CGPA                 0\n",
            "Research             0\n",
            "Chance of Admit      0\n",
            "dtype: int64\n"
          ]
        }
      ],
      "source": [
        "import pandas as pd\n",
        "import os\n",
        "\n",
        "# Specify the correct file path relative to the notebook's location\n",
        "file_path = os.path.join(\"lab-pandas-en\", \"Admission_Predict.csv\")\n",
        "\n",
        "# Load the dataset using the file path\n",
        "df = pd.read_csv(file_path)\n",
        "\n",
        "# Check for missing values\n",
        "missing_values = df.isnull().sum()\n",
        "\n",
        "# Display the results\n",
        "print(\"Missing Values in Each Column:\")\n",
        "print(missing_values)"
      ]
    },
    {
      "cell_type": "markdown",
      "metadata": {
        "id": "AbO4zmY-TgH1"
      },
      "source": [
        "###  2 -  Interestingly, there is a column that uniquely identifies the applicants. This column is the serial number column. Instead of having our own index, we should make this column our index. Do this in the cell below. Keep the column in the dataframe in addition to making it an index."
      ]
    },
    {
      "cell_type": "code",
      "execution_count": 85,
      "metadata": {
        "colab": {
          "base_uri": "https://localhost:8080/"
        },
        "id": "szNE66ZETgH1",
        "outputId": "23ca6cdc-cefb-4266-8f54-f82791421853"
      },
      "outputs": [
        {
          "output_type": "stream",
          "name": "stdout",
          "text": [
            "   Serial No.  GRE Score  TOEFL Score  University Rating  SOP  LOR   CGPA  \\\n",
            "0           1        337          118                  4  4.5   4.5  9.65   \n",
            "1           2        316          104                  3  3.0   3.5  8.00   \n",
            "2           3        322          110                  3  3.5   2.5  8.67   \n",
            "3           4        314          103                  2  2.0   3.0  8.21   \n",
            "4           5        330          115                  5  4.5   3.0  9.34   \n",
            "\n",
            "   Research  Chance of Admit   \n",
            "0         1              0.92  \n",
            "1         1              0.72  \n",
            "2         1              0.80  \n",
            "3         0              0.65  \n",
            "4         1              0.90  \n"
          ]
        }
      ],
      "source": [
        "import pandas as pd\n",
        "import os\n",
        "\n",
        "# Load the dataset\n",
        "# Assuming 'Admission_Predict.csv' is in the 'lab-pandas-en' subdirectory\n",
        "file_path = os.path.join(\"lab-pandas-en\", \"Admission_Predict.csv\")\n",
        "df = pd.read_csv(file_path)\n",
        "\n",
        "# Set \"Serial No.\" as the index while keeping it in the DataFrame\n",
        "df.set_index(\"Serial No.\", inplace=False)  # This does not modify the DataFrame permanently\n",
        "\n",
        "# Display the first 5 rows to verify the change\n",
        "print(df.head())\n"
      ]
    },
    {
      "cell_type": "markdown",
      "metadata": {
        "id": "O9Zh_qYFTgH2"
      },
      "source": [
        "Turns out that `GRE Score` and `CGPA` also uniquely identify the data. Show this in the cell below."
      ]
    },
    {
      "cell_type": "markdown",
      "metadata": {
        "id": "Yr0TFTkgTgH_"
      },
      "source": [
        "### 3 - In this part of the lab, we would like to test complex conditions on the entire data set at once. Let's start by finding the number of rows where the CGPA is greater than 9 and the student has performed an investigation."
      ]
    },
    {
      "cell_type": "code",
      "execution_count": 86,
      "metadata": {
        "scrolled": true,
        "colab": {
          "base_uri": "https://localhost:8080/"
        },
        "id": "2e2vVXyhTgIA",
        "outputId": "71c78fdd-5779-40cd-80c9-37e81256defc"
      },
      "outputs": [
        {
          "output_type": "stream",
          "name": "stdout",
          "text": [
            "GRE Score and CGPA uniquely identify each row.\n"
          ]
        }
      ],
      "source": [
        "import pandas as pd\n",
        "import os\n",
        "\n",
        "# Load the dataset\n",
        "# Assuming 'Admission_Predict.csv' is in the 'lab-pandas-en' subdirectory\n",
        "file_path = os.path.join(\"lab-pandas-en\", \"Admission_Predict.csv\")  # Specify the correct relative path\n",
        "df = pd.read_csv(file_path)\n",
        "\n",
        "# Check if (GRE Score, CGPA) uniquely identify rows\n",
        "unique_pairs = df.duplicated(subset=[\"GRE Score\", \"CGPA\"]).sum()\n",
        "\n",
        "# Display result\n",
        "if unique_pairs == 0:\n",
        "    print(\"GRE Score and CGPA uniquely identify each row.\")\n",
        "else:\n",
        "    print(f\"There are {unique_pairs} duplicate pairs of GRE Score and CGPA.\")"
      ]
    },
    {
      "cell_type": "markdown",
      "metadata": {
        "id": "U1Cr1HhYTgIB"
      },
      "source": [
        "### 4 - Now return all the rows where the CGPA is greater than 9 and the SOP score is less than 3.5. Find the mean chance of admit for these applicants."
      ]
    },
    {
      "cell_type": "code",
      "execution_count": 87,
      "metadata": {
        "colab": {
          "base_uri": "https://localhost:8080/"
        },
        "id": "wQEtHIvyTgIB",
        "outputId": "8d86a884-04bc-4b19-9aa2-9492a1ae019b"
      },
      "outputs": [
        {
          "output_type": "stream",
          "name": "stdout",
          "text": [
            "Mean Chance of Admit for applicants with CGPA > 9 and SOP < 3.5: 0.79\n"
          ]
        }
      ],
      "source": [
        "import pandas as pd\n",
        "\n",
        "# Sample dataset\n",
        "data = {\n",
        "    'Serial No.': [1, 2, 3, 4, 5],\n",
        "    'GRE Score': [330, 315, 325, 330, 310],\n",
        "    'TOEFL Score': [115, 105, 110, 115, 100],\n",
        "    'University Rating': [4, 3, 4, 3, 2],\n",
        "    'SOP': [4.5, 3.2, 3.8, 4.7, 2.9],\n",
        "    'LOR': [4.5, 3.5, 4.0, 4.8, 3.6],\n",
        "    'CGPA': [9.5, 8.7, 9.1, 9.3, 9.6],\n",
        "    'Research': [1, 1, 1, 0, 1],\n",
        "    'Chance of Admit': [0.85, 0.78, 0.90, 0.87, 0.79]\n",
        "}\n",
        "\n",
        "# Create DataFrame\n",
        "df = pd.DataFrame(data)\n",
        "\n",
        "# Filter rows where CGPA > 9 and SOP < 3.5\n",
        "filtered_df = df[(df['CGPA'] > 9) & (df['SOP'] < 3.5)]\n",
        "\n",
        "# Calculate the mean chance of admit for the filtered applicants\n",
        "mean_chance_of_admit = filtered_df['Chance of Admit'].mean()\n",
        "\n",
        "# Display the result\n",
        "print(f\"Mean Chance of Admit for applicants with CGPA > 9 and SOP < 3.5: {mean_chance_of_admit}\")\n"
      ]
    }
  ],
  "metadata": {
    "kernelspec": {
      "display_name": "Python 3 (ipykernel)",
      "language": "python",
      "name": "python3"
    },
    "language_info": {
      "codemirror_mode": {
        "name": "ipython",
        "version": 3
      },
      "file_extension": ".py",
      "mimetype": "text/x-python",
      "name": "python",
      "nbconvert_exporter": "python",
      "pygments_lexer": "ipython3",
      "version": "3.12.4"
    },
    "toc": {
      "base_numbering": "",
      "nav_menu": {},
      "number_sections": false,
      "sideBar": true,
      "skip_h1_title": false,
      "title_cell": "Table of Contents",
      "title_sidebar": "Contents",
      "toc_cell": false,
      "toc_position": {},
      "toc_section_display": true,
      "toc_window_display": true
    },
    "colab": {
      "provenance": []
    }
  },
  "nbformat": 4,
  "nbformat_minor": 0
}